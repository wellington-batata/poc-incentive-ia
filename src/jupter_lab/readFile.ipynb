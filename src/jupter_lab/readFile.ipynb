{
 "cells": [
  {
   "cell_type": "markdown",
   "id": "1ec288ee",
   "metadata": {},
   "source": [
    "## Preparação do arquivo para classificação\n",
    "\n",
    "O DataSet inicial não tinha a coluna com a classificação daquele registro, se o teste DISC apontou para D, I, S ou C ...\n",
    "Criei uma coluna para somar os resultados das respostas e em seguida criei uma função para verificar qual era o maior valor e criar a coluna \"classification\" com o valor se apontou para D,I,S ou C."
   ]
  },
  {
   "cell_type": "code",
   "execution_count": 29,
   "id": "8828addd-ce0d-43ba-838c-b28f295d329b",
   "metadata": {
    "tags": []
   },
   "outputs": [],
   "source": [
    "import pandas as pd\n",
    "from google.cloud import storage"
   ]
  },
  {
   "cell_type": "code",
   "execution_count": 61,
   "id": "dd04b62e-b76f-4f2f-8ef8-9dc34ea35396",
   "metadata": {
    "tags": []
   },
   "outputs": [],
   "source": [
    "import pandas as pd\n",
    "from google.cloud import storage\n",
    "\n",
    "def encontrar_maior_valor_e_coluna(bucket_name, file_name, cols, output_file_name):\n",
    "  # Criar um cliente para o Google Cloud Storage\n",
    "  storage_client = storage.Client()\n",
    "  bucket = storage_client.bucket(bucket_name)\n",
    "  blob = bucket.blob(file_name)\n",
    "\n",
    "  # Ler o arquivo CSV para um DataFrame\n",
    "  df = pd.read_csv(blob.open('rb'))\n",
    "\n",
    "  # Selecionar as colunas desejadas\n",
    "  dfCopy = df[cols]\n",
    "\n",
    "  # Encontrar o índice da coluna com o maior valor em cada linha\n",
    "  df['classification'] = dfCopy.idxmax(axis=1)\n",
    "\n",
    "  # Salvar o DataFrame em um novo arquivo CSV no Google Cloud Storage\n",
    "  blob = bucket.blob(output_file_name)\n",
    "  blob.upload_from_string(df.to_csv(index=False), content_type='text/csv')\n",
    "\n",
    "  return df"
   ]
  },
  {
   "cell_type": "code",
   "execution_count": 62,
   "id": "eaf04ffe-d55a-40f5-bb2f-69a5b9a6e1b7",
   "metadata": {
    "tags": []
   },
   "outputs": [
    {
     "name": "stdout",
     "output_type": "stream",
     "text": [
      "      D1  D2  D3  D4  D5  D6  D7  D8  D9  D10  ...  C9  C10  age  gender  \\\n",
      "0      4   4   3   3   5   4   1   3   1    1  ...   2    1   29       2   \n",
      "1      4   3   4   4   3   2   3   3   4    3  ...   2    2   49       2   \n",
      "2      5   4   4   5   3   3   2   2   1    1  ...   2    3   52       1   \n",
      "3      4   3   3   2   3   3   4   3   4    1  ...   3    1   34       2   \n",
      "4      4   4   4   4   4   3   2   1   2    0  ...   4    4   52       2   \n",
      "...   ..  ..  ..  ..  ..  ..  ..  ..  ..  ...  ...  ..  ...  ...     ...   \n",
      "1000   2   5   4   4   3   5   1   3   2    3  ...   4    1   15       2   \n",
      "1001   4   4   3   3   4   4   2   2   1    1  ...   2    2   38       2   \n",
      "1002   4   4   4   4   4   3   2   4   2    1  ...   3    4   34       2   \n",
      "1003   5   4   3   5   4   4   1   2   1    1  ...   4    4   23       1   \n",
      "1004   4   4   2   2   0   3   4   3   1    1  ...   1    2   39       2   \n",
      "\n",
      "      genderStr   D   I   S   C  classification  \n",
      "0      feminino  29  29  30  23               S  \n",
      "1      feminino  33  32  36  28               S  \n",
      "2     masculino  30  31  30  34               C  \n",
      "3      feminino  30  29  33  33               S  \n",
      "4      feminino  28  32  31  40               C  \n",
      "...         ...  ..  ..  ..  ..             ...  \n",
      "1000   feminino  32  28  35  32               S  \n",
      "1001   feminino  28  26  29  24               S  \n",
      "1002   feminino  32  34  29  31               I  \n",
      "1003  masculino  30  33  25  36               C  \n",
      "1004   feminino  24  28  33  30               S  \n",
      "\n",
      "[1005 rows x 48 columns]\n"
     ]
    }
   ],
   "source": [
    "# Executando\n",
    "bucket_name = \"cloud-ai-platform-8c5164e5-e922-40d5-930b-5ee4dc247709\"\n",
    "file_name = \"data_clean.csv\"\n",
    "output_file_name = \"data_classificado.csv\"\n",
    "cols = ['D', 'I', 'S', 'C']\n",
    " \n",
    "resultado = encontrar_maior_valor_e_coluna(bucket_name, file_name, cols, output_file_name)\n",
    "print(resultado)"
   ]
  },
  {
   "cell_type": "code",
   "execution_count": null,
   "id": "90142f52-25d9-472c-bb20-2b3d00bb07a5",
   "metadata": {},
   "outputs": [],
   "source": []
  }
 ],
 "metadata": {
  "environment": {
   "kernel": "python3",
   "name": "common-cu113.m124",
   "type": "gcloud",
   "uri": "us-docker.pkg.dev/deeplearning-platform-release/gcr.io/base-cu113:m124"
  },
  "kernelspec": {
   "display_name": "Python 3",
   "language": "python",
   "name": "python3"
  },
  "language_info": {
   "codemirror_mode": {
    "name": "ipython",
    "version": 3
   },
   "file_extension": ".py",
   "mimetype": "text/x-python",
   "name": "python",
   "nbconvert_exporter": "python",
   "pygments_lexer": "ipython3",
   "version": "3.10.4"
  }
 },
 "nbformat": 4,
 "nbformat_minor": 5
}
